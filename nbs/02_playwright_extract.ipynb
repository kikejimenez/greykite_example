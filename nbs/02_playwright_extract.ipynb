{
 "cells": [
  {
   "cell_type": "code",
   "execution_count": null,
   "metadata": {},
   "outputs": [
    {
     "ename": "RuntimeError",
     "evalue": "asyncio.run() cannot be called from a running event loop",
     "output_type": "error",
     "traceback": [
      "\u001b[0;31m---------------------------------------------------------------------------\u001b[0m",
      "\u001b[0;31mRuntimeError\u001b[0m                              Traceback (most recent call last)",
      "\u001b[1;32m/wd/nbs/02_playwright_extract.ipynb Cell 1'\u001b[0m in \u001b[0;36m<cell line: 12>\u001b[0;34m()\u001b[0m\n\u001b[1;32m      <a href='vscode-notebook-cell://attached-container%2B7b22636f6e7461696e65724e616d65223a222f7265706f5f66697273745f636f6d6d697473227d/wd/nbs/02_playwright_extract.ipynb#ch0000000vscode-remote?line=8'>9</a>\u001b[0m         \u001b[39mprint\u001b[39m(\u001b[39mawait\u001b[39;00m page\u001b[39m.\u001b[39mtitle())\n\u001b[1;32m     <a href='vscode-notebook-cell://attached-container%2B7b22636f6e7461696e65724e616d65223a222f7265706f5f66697273745f636f6d6d697473227d/wd/nbs/02_playwright_extract.ipynb#ch0000000vscode-remote?line=9'>10</a>\u001b[0m         \u001b[39mawait\u001b[39;00m browser\u001b[39m.\u001b[39mclose()\n\u001b[0;32m---> <a href='vscode-notebook-cell://attached-container%2B7b22636f6e7461696e65724e616d65223a222f7265706f5f66697273745f636f6d6d697473227d/wd/nbs/02_playwright_extract.ipynb#ch0000000vscode-remote?line=11'>12</a>\u001b[0m asyncio\u001b[39m.\u001b[39;49mrun(main())\n",
      "File \u001b[0;32m/opt/conda/lib/python3.8/asyncio/runners.py:33\u001b[0m, in \u001b[0;36mrun\u001b[0;34m(main, debug)\u001b[0m\n\u001b[1;32m      <a href='file:///opt/conda/lib/python3.8/asyncio/runners.py?line=8'>9</a>\u001b[0m \u001b[39m\"\"\"Execute the coroutine and return the result.\u001b[39;00m\n\u001b[1;32m     <a href='file:///opt/conda/lib/python3.8/asyncio/runners.py?line=9'>10</a>\u001b[0m \n\u001b[1;32m     <a href='file:///opt/conda/lib/python3.8/asyncio/runners.py?line=10'>11</a>\u001b[0m \u001b[39mThis function runs the passed coroutine, taking care of\u001b[39;00m\n\u001b[0;32m   (...)\u001b[0m\n\u001b[1;32m     <a href='file:///opt/conda/lib/python3.8/asyncio/runners.py?line=29'>30</a>\u001b[0m \u001b[39m    asyncio.run(main())\u001b[39;00m\n\u001b[1;32m     <a href='file:///opt/conda/lib/python3.8/asyncio/runners.py?line=30'>31</a>\u001b[0m \u001b[39m\"\"\"\u001b[39;00m\n\u001b[1;32m     <a href='file:///opt/conda/lib/python3.8/asyncio/runners.py?line=31'>32</a>\u001b[0m \u001b[39mif\u001b[39;00m events\u001b[39m.\u001b[39m_get_running_loop() \u001b[39mis\u001b[39;00m \u001b[39mnot\u001b[39;00m \u001b[39mNone\u001b[39;00m:\n\u001b[0;32m---> <a href='file:///opt/conda/lib/python3.8/asyncio/runners.py?line=32'>33</a>\u001b[0m     \u001b[39mraise\u001b[39;00m \u001b[39mRuntimeError\u001b[39;00m(\n\u001b[1;32m     <a href='file:///opt/conda/lib/python3.8/asyncio/runners.py?line=33'>34</a>\u001b[0m         \u001b[39m\"\u001b[39m\u001b[39masyncio.run() cannot be called from a running event loop\u001b[39m\u001b[39m\"\u001b[39m)\n\u001b[1;32m     <a href='file:///opt/conda/lib/python3.8/asyncio/runners.py?line=35'>36</a>\u001b[0m \u001b[39mif\u001b[39;00m \u001b[39mnot\u001b[39;00m coroutines\u001b[39m.\u001b[39miscoroutine(main):\n\u001b[1;32m     <a href='file:///opt/conda/lib/python3.8/asyncio/runners.py?line=36'>37</a>\u001b[0m     \u001b[39mraise\u001b[39;00m \u001b[39mValueError\u001b[39;00m(\u001b[39m\"\u001b[39m\u001b[39ma coroutine was expected, got \u001b[39m\u001b[39m{!r}\u001b[39;00m\u001b[39m\"\u001b[39m\u001b[39m.\u001b[39mformat(main))\n",
      "\u001b[0;31mRuntimeError\u001b[0m: asyncio.run() cannot be called from a running event loop"
     ]
    }
   ],
   "source": [
    "import asyncio\n",
    "from playwright.async_api import async_playwright\n",
    "\n",
    "async def main():\n",
    "    async with async_playwright() as p:\n",
    "        browser = await p.chromium.launch()\n",
    "        page = await browser.new_page()\n",
    "        await page.goto(\"http://playwright.dev\")\n",
    "        print(await page.title())\n",
    "        await browser.close()\n",
    "\n",
    "asyncio.run(main())"
   ]
  },
  {
   "cell_type": "code",
   "execution_count": null,
   "metadata": {},
   "outputs": [],
   "source": []
  }
 ],
 "metadata": {
  "kernelspec": {
   "display_name": "Python 3.8.6 ('base')",
   "language": "python",
   "name": "python3"
  }
 },
 "nbformat": 4,
 "nbformat_minor": 2
}
