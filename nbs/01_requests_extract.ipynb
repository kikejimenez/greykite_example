{
 "cells": [
  {
   "cell_type": "code",
   "execution_count": null,
   "metadata": {},
   "outputs": [],
   "source": [
    "# default_exp extractors"
   ]
  },
  {
   "cell_type": "code",
   "execution_count": null,
   "metadata": {},
   "outputs": [],
   "source": [
    "# ommit\n",
    "import requests\n",
    "\n",
    "# from requests_html import AsyncHTMLSession\n",
    "from bs4 import BeautifulSoup\n"
   ]
  },
  {
   "cell_type": "markdown",
   "metadata": {},
   "source": [
    "# module name here\n",
    "\n",
    "> API details."
   ]
  },
  {
   "cell_type": "code",
   "execution_count": null,
   "metadata": {},
   "outputs": [],
   "source": [
    "#hide\n",
    "from nbdev.showdoc import *"
   ]
  },
  {
   "cell_type": "code",
   "execution_count": null,
   "metadata": {},
   "outputs": [],
   "source": [
    "# export\n",
    "def _parse(response)-> dict:\n",
    "\n",
    "\n",
    "    soup = BeautifulSoup(response.content, \"lxml\")\n",
    "  \n",
    "\n",
    "    clss = soup.findAll(\"div\", class_=\"Subhead\")\n",
    "    \n",
    "    if clss:\n",
    "        for cl in clss:\n",
    "            print(cl.text)\n",
    "        \n",
    "    #     # for tr in soup.findAll(\"tr\"):\n",
    "\n",
    "    #     #     label = tr.find(\"th\", class_=\"Layout-\")\n",
    "    #     #     data = tr.find(\"td\", class_= \"infobox-data\")\n",
    "\n",
    "    #     #     if label:\n",
    "    #     #         key = label.text\n",
    "    #     #         if data:\n",
    "    #     #             elems = data.findAll(\"li\")\n",
    "    #     #             value = [li.text for li in elems] if elems else [data.text]\n",
    "\n",
    "    #     #         infodict[key] = value\n",
    "    \n",
    "    # return infodict\n",
    "\n",
    "    \n",
    "\n"
   ]
  },
  {
   "cell_type": "code",
   "execution_count": null,
   "metadata": {},
   "outputs": [],
   "source": [
    "# export \n",
    "def request_and_parse(url: str) -> dict:\n",
    "    \n",
    "    response = requests.get(url,timeout=(10,27))\n",
    "    \n",
    "    assert response.status_code == 200\n",
    "\n",
    "    return _parse(response)\n",
    "\n"
   ]
  },
  {
   "cell_type": "code",
   "execution_count": null,
   "metadata": {},
   "outputs": [
    {
     "name": "stdout",
     "output_type": "stream",
     "text": [
      "\n",
      "Loading contributions…\n",
      " \n",
      " Contributions:\n",
      "Commits\n",
      " \n",
      "\n",
      "Filter contributions\n",
      "\n",
      "\n",
      "\n",
      "\n",
      "\n",
      "\n",
      "Additions\n",
      "\n",
      "\n",
      "\n",
      "\n",
      "\n",
      "Deletions\n",
      "\n",
      "\n",
      "\n",
      "\n",
      "\n",
      "Commits\n",
      "\n",
      "\n",
      "\n",
      "\n",
      "\n",
      "\n"
     ]
    }
   ],
   "source": [
    "user = 'emqx'\n",
    "repo = 'emqx'\n",
    "url = f'https://github.com/{user}/{repo}/graphs/contributors'\n",
    "\n",
    "_res = request_and_parse(url)\n",
    "\n",
    "_res"
   ]
  },
  {
   "cell_type": "code",
   "execution_count": null,
   "metadata": {},
   "outputs": [
    {
     "ename": "RuntimeError",
     "evalue": "This event loop is already running",
     "output_type": "error",
     "traceback": [
      "\u001b[0;31m---------------------------------------------------------------------------\u001b[0m",
      "\u001b[0;31mRuntimeError\u001b[0m                              Traceback (most recent call last)",
      "\u001b[1;32m/wd/nbs/01_extract.ipynb Cell 8'\u001b[0m in \u001b[0;36m<cell line: 17>\u001b[0;34m()\u001b[0m\n\u001b[1;32m     <a href='vscode-notebook-cell://attached-container%2B7b22636f6e7461696e65724e616d65223a222f7265706f5f66697273745f636f6d6d697473227d/wd/nbs/01_extract.ipynb#ch0000005vscode-remote?line=14'>15</a>\u001b[0m \u001b[39masync\u001b[39;00m \u001b[39mdef\u001b[39;00m \u001b[39mget_pythonorg\u001b[39m():\n\u001b[1;32m     <a href='vscode-notebook-cell://attached-container%2B7b22636f6e7461696e65724e616d65223a222f7265706f5f66697273745f636f6d6d697473227d/wd/nbs/01_extract.ipynb#ch0000005vscode-remote?line=15'>16</a>\u001b[0m     r \u001b[39m=\u001b[39m \u001b[39mawait\u001b[39;00m asession\u001b[39m.\u001b[39mget(\u001b[39m'\u001b[39m\u001b[39mhttps://python.org/\u001b[39m\u001b[39m'\u001b[39m)\n\u001b[0;32m---> <a href='vscode-notebook-cell://attached-container%2B7b22636f6e7461696e65724e616d65223a222f7265706f5f66697273745f636f6d6d697473227d/wd/nbs/01_extract.ipynb#ch0000005vscode-remote?line=16'>17</a>\u001b[0m asession\u001b[39m.\u001b[39;49mrun(get_pythonorg)\n",
      "File \u001b[0;32m/opt/conda/lib/python3.8/site-packages/requests_html.py:774\u001b[0m, in \u001b[0;36mAsyncHTMLSession.run\u001b[0;34m(self, *coros)\u001b[0m\n\u001b[1;32m    <a href='file:///opt/conda/lib/python3.8/site-packages/requests_html.py?line=767'>768</a>\u001b[0m \u001b[39m\"\"\" Pass in all the coroutines you want to run, it will wrap each one\u001b[39;00m\n\u001b[1;32m    <a href='file:///opt/conda/lib/python3.8/site-packages/requests_html.py?line=768'>769</a>\u001b[0m \u001b[39m    in a task, run it and wait for the result. Return a list with all\u001b[39;00m\n\u001b[1;32m    <a href='file:///opt/conda/lib/python3.8/site-packages/requests_html.py?line=769'>770</a>\u001b[0m \u001b[39m    results, this is returned in the same order coros are passed in. \"\"\"\u001b[39;00m\n\u001b[1;32m    <a href='file:///opt/conda/lib/python3.8/site-packages/requests_html.py?line=770'>771</a>\u001b[0m tasks \u001b[39m=\u001b[39m [\n\u001b[1;32m    <a href='file:///opt/conda/lib/python3.8/site-packages/requests_html.py?line=771'>772</a>\u001b[0m     asyncio\u001b[39m.\u001b[39mensure_future(coro()) \u001b[39mfor\u001b[39;00m coro \u001b[39min\u001b[39;00m coros\n\u001b[1;32m    <a href='file:///opt/conda/lib/python3.8/site-packages/requests_html.py?line=772'>773</a>\u001b[0m ]\n\u001b[0;32m--> <a href='file:///opt/conda/lib/python3.8/site-packages/requests_html.py?line=773'>774</a>\u001b[0m done, _ \u001b[39m=\u001b[39m \u001b[39mself\u001b[39;49m\u001b[39m.\u001b[39;49mloop\u001b[39m.\u001b[39;49mrun_until_complete(asyncio\u001b[39m.\u001b[39;49mwait(tasks))\n\u001b[1;32m    <a href='file:///opt/conda/lib/python3.8/site-packages/requests_html.py?line=774'>775</a>\u001b[0m \u001b[39mreturn\u001b[39;00m [t\u001b[39m.\u001b[39mresult() \u001b[39mfor\u001b[39;00m t \u001b[39min\u001b[39;00m done]\n",
      "File \u001b[0;32m/opt/conda/lib/python3.8/asyncio/base_events.py:592\u001b[0m, in \u001b[0;36mBaseEventLoop.run_until_complete\u001b[0;34m(self, future)\u001b[0m\n\u001b[1;32m    <a href='file:///opt/conda/lib/python3.8/asyncio/base_events.py?line=580'>581</a>\u001b[0m \u001b[39m\"\"\"Run until the Future is done.\u001b[39;00m\n\u001b[1;32m    <a href='file:///opt/conda/lib/python3.8/asyncio/base_events.py?line=581'>582</a>\u001b[0m \n\u001b[1;32m    <a href='file:///opt/conda/lib/python3.8/asyncio/base_events.py?line=582'>583</a>\u001b[0m \u001b[39mIf the argument is a coroutine, it is wrapped in a Task.\u001b[39;00m\n\u001b[0;32m   (...)\u001b[0m\n\u001b[1;32m    <a href='file:///opt/conda/lib/python3.8/asyncio/base_events.py?line=588'>589</a>\u001b[0m \u001b[39mReturn the Future's result, or raise its exception.\u001b[39;00m\n\u001b[1;32m    <a href='file:///opt/conda/lib/python3.8/asyncio/base_events.py?line=589'>590</a>\u001b[0m \u001b[39m\"\"\"\u001b[39;00m\n\u001b[1;32m    <a href='file:///opt/conda/lib/python3.8/asyncio/base_events.py?line=590'>591</a>\u001b[0m \u001b[39mself\u001b[39m\u001b[39m.\u001b[39m_check_closed()\n\u001b[0;32m--> <a href='file:///opt/conda/lib/python3.8/asyncio/base_events.py?line=591'>592</a>\u001b[0m \u001b[39mself\u001b[39;49m\u001b[39m.\u001b[39;49m_check_running()\n\u001b[1;32m    <a href='file:///opt/conda/lib/python3.8/asyncio/base_events.py?line=593'>594</a>\u001b[0m new_task \u001b[39m=\u001b[39m \u001b[39mnot\u001b[39;00m futures\u001b[39m.\u001b[39misfuture(future)\n\u001b[1;32m    <a href='file:///opt/conda/lib/python3.8/asyncio/base_events.py?line=594'>595</a>\u001b[0m future \u001b[39m=\u001b[39m tasks\u001b[39m.\u001b[39mensure_future(future, loop\u001b[39m=\u001b[39m\u001b[39mself\u001b[39m)\n",
      "File \u001b[0;32m/opt/conda/lib/python3.8/asyncio/base_events.py:552\u001b[0m, in \u001b[0;36mBaseEventLoop._check_running\u001b[0;34m(self)\u001b[0m\n\u001b[1;32m    <a href='file:///opt/conda/lib/python3.8/asyncio/base_events.py?line=549'>550</a>\u001b[0m \u001b[39mdef\u001b[39;00m \u001b[39m_check_running\u001b[39m(\u001b[39mself\u001b[39m):\n\u001b[1;32m    <a href='file:///opt/conda/lib/python3.8/asyncio/base_events.py?line=550'>551</a>\u001b[0m     \u001b[39mif\u001b[39;00m \u001b[39mself\u001b[39m\u001b[39m.\u001b[39mis_running():\n\u001b[0;32m--> <a href='file:///opt/conda/lib/python3.8/asyncio/base_events.py?line=551'>552</a>\u001b[0m         \u001b[39mraise\u001b[39;00m \u001b[39mRuntimeError\u001b[39;00m(\u001b[39m'\u001b[39m\u001b[39mThis event loop is already running\u001b[39m\u001b[39m'\u001b[39m)\n\u001b[1;32m    <a href='file:///opt/conda/lib/python3.8/asyncio/base_events.py?line=552'>553</a>\u001b[0m     \u001b[39mif\u001b[39;00m events\u001b[39m.\u001b[39m_get_running_loop() \u001b[39mis\u001b[39;00m \u001b[39mnot\u001b[39;00m \u001b[39mNone\u001b[39;00m:\n\u001b[1;32m    <a href='file:///opt/conda/lib/python3.8/asyncio/base_events.py?line=553'>554</a>\u001b[0m         \u001b[39mraise\u001b[39;00m \u001b[39mRuntimeError\u001b[39;00m(\n\u001b[1;32m    <a href='file:///opt/conda/lib/python3.8/asyncio/base_events.py?line=554'>555</a>\u001b[0m             \u001b[39m'\u001b[39m\u001b[39mCannot run the event loop while another loop is running\u001b[39m\u001b[39m'\u001b[39m)\n",
      "\u001b[0;31mRuntimeError\u001b[0m: This event loop is already running"
     ]
    }
   ],
   "source": [
    "from requests_html import AsyncHTMLSession\n",
    "\n",
    "    \n",
    "asession = AsyncHTMLSession()\n",
    "async def get_emqx():\n",
    "\n",
    "    user = 'emqx'\n",
    "    repo = 'emqx'\n",
    "    url = f'https://github.com/{user}/{repo}/graphs/contributors'\n",
    "\n",
    "    r = await asession.get(url)\n",
    "    #print(r.html.find('#about',first=True))\n",
    "    #_res = request_and_parse(url)\n",
    "    #_res\n",
    "async def get_pythonorg():\n",
    "    r = await asession.get('https://python.org/')\n",
    "asession.run(get_pythonorg)"
   ]
  },
  {
   "cell_type": "code",
   "execution_count": null,
   "metadata": {},
   "outputs": [
    {
     "ename": "RuntimeError",
     "evalue": "Cannot use HTMLSession within an existing event loop. Use AsyncHTMLSession instead.",
     "output_type": "error",
     "traceback": [
      "\u001b[0;31m---------------------------------------------------------------------------\u001b[0m",
      "\u001b[0;31mRuntimeError\u001b[0m                              Traceback (most recent call last)",
      "\u001b[1;32m/wd/nbs/01_extract.ipynb Cell 9'\u001b[0m in \u001b[0;36m<cell line: 8>\u001b[0;34m()\u001b[0m\n\u001b[1;32m      <a href='vscode-notebook-cell://attached-container%2B7b22636f6e7461696e65724e616d65223a222f7265706f5f66697273745f636f6d6d697473227d/wd/nbs/01_extract.ipynb#ch0000014vscode-remote?line=5'>6</a>\u001b[0m s \u001b[39m=\u001b[39m HTMLSession()\n\u001b[1;32m      <a href='vscode-notebook-cell://attached-container%2B7b22636f6e7461696e65724e616d65223a222f7265706f5f66697273745f636f6d6d697473227d/wd/nbs/01_extract.ipynb#ch0000014vscode-remote?line=6'>7</a>\u001b[0m response \u001b[39m=\u001b[39m s\u001b[39m.\u001b[39mget(url)\n\u001b[0;32m----> <a href='vscode-notebook-cell://attached-container%2B7b22636f6e7461696e65724e616d65223a222f7265706f5f66697273745f636f6d6d697473227d/wd/nbs/01_extract.ipynb#ch0000014vscode-remote?line=7'>8</a>\u001b[0m response\u001b[39m.\u001b[39;49mhtml\u001b[39m.\u001b[39;49mrender(wait\u001b[39m=\u001b[39;49m\u001b[39m3\u001b[39;49m,sleep\u001b[39m=\u001b[39;49m\u001b[39m3\u001b[39;49m)\n\u001b[1;32m     <a href='vscode-notebook-cell://attached-container%2B7b22636f6e7461696e65724e616d65223a222f7265706f5f66697273745f636f6d6d697473227d/wd/nbs/01_extract.ipynb#ch0000014vscode-remote?line=9'>10</a>\u001b[0m \u001b[39mprint\u001b[39m(response)\n",
      "File \u001b[0;32m/opt/conda/lib/python3.8/site-packages/requests_html.py:586\u001b[0m, in \u001b[0;36mHTML.render\u001b[0;34m(self, retries, script, wait, scrolldown, sleep, reload, timeout, keep_page)\u001b[0m\n\u001b[1;32m    <a href='file:///opt/conda/lib/python3.8/site-packages/requests_html.py?line=540'>541</a>\u001b[0m \u001b[39mdef\u001b[39;00m \u001b[39mrender\u001b[39m(\u001b[39mself\u001b[39m, retries: \u001b[39mint\u001b[39m \u001b[39m=\u001b[39m \u001b[39m8\u001b[39m, script: \u001b[39mstr\u001b[39m \u001b[39m=\u001b[39m \u001b[39mNone\u001b[39;00m, wait: \u001b[39mfloat\u001b[39m \u001b[39m=\u001b[39m \u001b[39m0.2\u001b[39m, scrolldown\u001b[39m=\u001b[39m\u001b[39mFalse\u001b[39;00m, sleep: \u001b[39mint\u001b[39m \u001b[39m=\u001b[39m \u001b[39m0\u001b[39m, reload: \u001b[39mbool\u001b[39m \u001b[39m=\u001b[39m \u001b[39mTrue\u001b[39;00m, timeout: Union[\u001b[39mfloat\u001b[39m, \u001b[39mint\u001b[39m] \u001b[39m=\u001b[39m \u001b[39m8.0\u001b[39m, keep_page: \u001b[39mbool\u001b[39m \u001b[39m=\u001b[39m \u001b[39mFalse\u001b[39;00m):\n\u001b[1;32m    <a href='file:///opt/conda/lib/python3.8/site-packages/requests_html.py?line=541'>542</a>\u001b[0m     \u001b[39m\"\"\"Reloads the response in Chromium, and replaces HTML content\u001b[39;00m\n\u001b[1;32m    <a href='file:///opt/conda/lib/python3.8/site-packages/requests_html.py?line=542'>543</a>\u001b[0m \u001b[39m    with an updated version, with JavaScript executed.\u001b[39;00m\n\u001b[1;32m    <a href='file:///opt/conda/lib/python3.8/site-packages/requests_html.py?line=543'>544</a>\u001b[0m \n\u001b[0;32m   (...)\u001b[0m\n\u001b[1;32m    <a href='file:///opt/conda/lib/python3.8/site-packages/requests_html.py?line=582'>583</a>\u001b[0m \u001b[39m    Chromium into your home directory (``~/.pyppeteer``).\u001b[39;00m\n\u001b[1;32m    <a href='file:///opt/conda/lib/python3.8/site-packages/requests_html.py?line=583'>584</a>\u001b[0m \u001b[39m    \"\"\"\u001b[39;00m\n\u001b[0;32m--> <a href='file:///opt/conda/lib/python3.8/site-packages/requests_html.py?line=585'>586</a>\u001b[0m     \u001b[39mself\u001b[39m\u001b[39m.\u001b[39mbrowser \u001b[39m=\u001b[39m \u001b[39mself\u001b[39;49m\u001b[39m.\u001b[39;49msession\u001b[39m.\u001b[39;49mbrowser  \u001b[39m# Automatically create a event loop and browser\u001b[39;00m\n\u001b[1;32m    <a href='file:///opt/conda/lib/python3.8/site-packages/requests_html.py?line=586'>587</a>\u001b[0m     content \u001b[39m=\u001b[39m \u001b[39mNone\u001b[39;00m\n\u001b[1;32m    <a href='file:///opt/conda/lib/python3.8/site-packages/requests_html.py?line=588'>589</a>\u001b[0m     \u001b[39m# Automatically set Reload to False, if example URL is being used.\u001b[39;00m\n",
      "File \u001b[0;32m/opt/conda/lib/python3.8/site-packages/requests_html.py:729\u001b[0m, in \u001b[0;36mHTMLSession.browser\u001b[0;34m(self)\u001b[0m\n\u001b[1;32m    <a href='file:///opt/conda/lib/python3.8/site-packages/requests_html.py?line=726'>727</a>\u001b[0m     \u001b[39mself\u001b[39m\u001b[39m.\u001b[39mloop \u001b[39m=\u001b[39m asyncio\u001b[39m.\u001b[39mget_event_loop()\n\u001b[1;32m    <a href='file:///opt/conda/lib/python3.8/site-packages/requests_html.py?line=727'>728</a>\u001b[0m     \u001b[39mif\u001b[39;00m \u001b[39mself\u001b[39m\u001b[39m.\u001b[39mloop\u001b[39m.\u001b[39mis_running():\n\u001b[0;32m--> <a href='file:///opt/conda/lib/python3.8/site-packages/requests_html.py?line=728'>729</a>\u001b[0m         \u001b[39mraise\u001b[39;00m \u001b[39mRuntimeError\u001b[39;00m(\u001b[39m\"\u001b[39m\u001b[39mCannot use HTMLSession within an existing event loop. Use AsyncHTMLSession instead.\u001b[39m\u001b[39m\"\u001b[39m)\n\u001b[1;32m    <a href='file:///opt/conda/lib/python3.8/site-packages/requests_html.py?line=729'>730</a>\u001b[0m     \u001b[39mself\u001b[39m\u001b[39m.\u001b[39m_browser \u001b[39m=\u001b[39m \u001b[39mself\u001b[39m\u001b[39m.\u001b[39mloop\u001b[39m.\u001b[39mrun_until_complete(\u001b[39msuper\u001b[39m()\u001b[39m.\u001b[39mbrowser)\n\u001b[1;32m    <a href='file:///opt/conda/lib/python3.8/site-packages/requests_html.py?line=730'>731</a>\u001b[0m \u001b[39mreturn\u001b[39;00m \u001b[39mself\u001b[39m\u001b[39m.\u001b[39m_browser\n",
      "\u001b[0;31mRuntimeError\u001b[0m: Cannot use HTMLSession within an existing event loop. Use AsyncHTMLSession instead."
     ]
    }
   ],
   "source": [
    "from requests_html import HTMLSession\n",
    "user = 'emqx'\n",
    "repo = 'emqx'\n",
    "url = f'https://github.com/{user}/{repo}/graphs/contributors'\n",
    "\n",
    "s = HTMLSession()\n",
    "response = s.get(url)\n",
    "response.html.render(wait=3,sleep=3)\n",
    "\n",
    "print(response)"
   ]
  },
  {
   "cell_type": "code",
   "execution_count": null,
   "metadata": {},
   "outputs": [
    {
     "ename": "RuntimeError",
     "evalue": "This event loop is already running",
     "output_type": "error",
     "traceback": [
      "\u001b[0;31m---------------------------------------------------------------------------\u001b[0m",
      "\u001b[0;31mRuntimeError\u001b[0m                              Traceback (most recent call last)",
      "\u001b[1;32m/wd/nbs/01_extract.ipynb Cell 8'\u001b[0m in \u001b[0;36m<cell line: 1>\u001b[0;34m()\u001b[0m\n\u001b[0;32m----> <a href='vscode-notebook-cell://attached-container%2B7b22636f6e7461696e65724e616d65223a222f7265706f5f66697273745f636f6d6d697473227d/wd/nbs/01_extract.ipynb#ch0000013vscode-remote?line=0'>1</a>\u001b[0m asession\u001b[39m.\u001b[39;49mrun(get_emqx)\n",
      "File \u001b[0;32m/opt/conda/lib/python3.8/site-packages/requests_html.py:774\u001b[0m, in \u001b[0;36mAsyncHTMLSession.run\u001b[0;34m(self, *coros)\u001b[0m\n\u001b[1;32m    <a href='file:///opt/conda/lib/python3.8/site-packages/requests_html.py?line=767'>768</a>\u001b[0m \u001b[39m\"\"\" Pass in all the coroutines you want to run, it will wrap each one\u001b[39;00m\n\u001b[1;32m    <a href='file:///opt/conda/lib/python3.8/site-packages/requests_html.py?line=768'>769</a>\u001b[0m \u001b[39m    in a task, run it and wait for the result. Return a list with all\u001b[39;00m\n\u001b[1;32m    <a href='file:///opt/conda/lib/python3.8/site-packages/requests_html.py?line=769'>770</a>\u001b[0m \u001b[39m    results, this is returned in the same order coros are passed in. \"\"\"\u001b[39;00m\n\u001b[1;32m    <a href='file:///opt/conda/lib/python3.8/site-packages/requests_html.py?line=770'>771</a>\u001b[0m tasks \u001b[39m=\u001b[39m [\n\u001b[1;32m    <a href='file:///opt/conda/lib/python3.8/site-packages/requests_html.py?line=771'>772</a>\u001b[0m     asyncio\u001b[39m.\u001b[39mensure_future(coro()) \u001b[39mfor\u001b[39;00m coro \u001b[39min\u001b[39;00m coros\n\u001b[1;32m    <a href='file:///opt/conda/lib/python3.8/site-packages/requests_html.py?line=772'>773</a>\u001b[0m ]\n\u001b[0;32m--> <a href='file:///opt/conda/lib/python3.8/site-packages/requests_html.py?line=773'>774</a>\u001b[0m done, _ \u001b[39m=\u001b[39m \u001b[39mself\u001b[39;49m\u001b[39m.\u001b[39;49mloop\u001b[39m.\u001b[39;49mrun_until_complete(asyncio\u001b[39m.\u001b[39;49mwait(tasks))\n\u001b[1;32m    <a href='file:///opt/conda/lib/python3.8/site-packages/requests_html.py?line=774'>775</a>\u001b[0m \u001b[39mreturn\u001b[39;00m [t\u001b[39m.\u001b[39mresult() \u001b[39mfor\u001b[39;00m t \u001b[39min\u001b[39;00m done]\n",
      "File \u001b[0;32m/opt/conda/lib/python3.8/asyncio/base_events.py:592\u001b[0m, in \u001b[0;36mBaseEventLoop.run_until_complete\u001b[0;34m(self, future)\u001b[0m\n\u001b[1;32m    <a href='file:///opt/conda/lib/python3.8/asyncio/base_events.py?line=580'>581</a>\u001b[0m \u001b[39m\"\"\"Run until the Future is done.\u001b[39;00m\n\u001b[1;32m    <a href='file:///opt/conda/lib/python3.8/asyncio/base_events.py?line=581'>582</a>\u001b[0m \n\u001b[1;32m    <a href='file:///opt/conda/lib/python3.8/asyncio/base_events.py?line=582'>583</a>\u001b[0m \u001b[39mIf the argument is a coroutine, it is wrapped in a Task.\u001b[39;00m\n\u001b[0;32m   (...)\u001b[0m\n\u001b[1;32m    <a href='file:///opt/conda/lib/python3.8/asyncio/base_events.py?line=588'>589</a>\u001b[0m \u001b[39mReturn the Future's result, or raise its exception.\u001b[39;00m\n\u001b[1;32m    <a href='file:///opt/conda/lib/python3.8/asyncio/base_events.py?line=589'>590</a>\u001b[0m \u001b[39m\"\"\"\u001b[39;00m\n\u001b[1;32m    <a href='file:///opt/conda/lib/python3.8/asyncio/base_events.py?line=590'>591</a>\u001b[0m \u001b[39mself\u001b[39m\u001b[39m.\u001b[39m_check_closed()\n\u001b[0;32m--> <a href='file:///opt/conda/lib/python3.8/asyncio/base_events.py?line=591'>592</a>\u001b[0m \u001b[39mself\u001b[39;49m\u001b[39m.\u001b[39;49m_check_running()\n\u001b[1;32m    <a href='file:///opt/conda/lib/python3.8/asyncio/base_events.py?line=593'>594</a>\u001b[0m new_task \u001b[39m=\u001b[39m \u001b[39mnot\u001b[39;00m futures\u001b[39m.\u001b[39misfuture(future)\n\u001b[1;32m    <a href='file:///opt/conda/lib/python3.8/asyncio/base_events.py?line=594'>595</a>\u001b[0m future \u001b[39m=\u001b[39m tasks\u001b[39m.\u001b[39mensure_future(future, loop\u001b[39m=\u001b[39m\u001b[39mself\u001b[39m)\n",
      "File \u001b[0;32m/opt/conda/lib/python3.8/asyncio/base_events.py:552\u001b[0m, in \u001b[0;36mBaseEventLoop._check_running\u001b[0;34m(self)\u001b[0m\n\u001b[1;32m    <a href='file:///opt/conda/lib/python3.8/asyncio/base_events.py?line=549'>550</a>\u001b[0m \u001b[39mdef\u001b[39;00m \u001b[39m_check_running\u001b[39m(\u001b[39mself\u001b[39m):\n\u001b[1;32m    <a href='file:///opt/conda/lib/python3.8/asyncio/base_events.py?line=550'>551</a>\u001b[0m     \u001b[39mif\u001b[39;00m \u001b[39mself\u001b[39m\u001b[39m.\u001b[39mis_running():\n\u001b[0;32m--> <a href='file:///opt/conda/lib/python3.8/asyncio/base_events.py?line=551'>552</a>\u001b[0m         \u001b[39mraise\u001b[39;00m \u001b[39mRuntimeError\u001b[39;00m(\u001b[39m'\u001b[39m\u001b[39mThis event loop is already running\u001b[39m\u001b[39m'\u001b[39m)\n\u001b[1;32m    <a href='file:///opt/conda/lib/python3.8/asyncio/base_events.py?line=552'>553</a>\u001b[0m     \u001b[39mif\u001b[39;00m events\u001b[39m.\u001b[39m_get_running_loop() \u001b[39mis\u001b[39;00m \u001b[39mnot\u001b[39;00m \u001b[39mNone\u001b[39;00m:\n\u001b[1;32m    <a href='file:///opt/conda/lib/python3.8/asyncio/base_events.py?line=553'>554</a>\u001b[0m         \u001b[39mraise\u001b[39;00m \u001b[39mRuntimeError\u001b[39;00m(\n\u001b[1;32m    <a href='file:///opt/conda/lib/python3.8/asyncio/base_events.py?line=554'>555</a>\u001b[0m             \u001b[39m'\u001b[39m\u001b[39mCannot run the event loop while another loop is running\u001b[39m\u001b[39m'\u001b[39m)\n",
      "\u001b[0;31mRuntimeError\u001b[0m: This event loop is already running"
     ]
    }
   ],
   "source": []
  },
  {
   "cell_type": "code",
   "execution_count": null,
   "metadata": {},
   "outputs": [
    {
     "ename": "BrowserError",
     "evalue": "Browser closed unexpectedly:\n",
     "output_type": "error",
     "traceback": [
      "\u001b[0;31m---------------------------------------------------------------------------\u001b[0m",
      "\u001b[0;31mBrowserError\u001b[0m                              Traceback (most recent call last)",
      "\u001b[1;32m/wd/nbs/01_extract.ipynb Cell 11'\u001b[0m in \u001b[0;36m<cell line: 13>\u001b[0;34m()\u001b[0m\n\u001b[1;32m     <a href='vscode-notebook-cell://attached-container%2B7b22636f6e7461696e65724e616d65223a222f7265706f5f66697273745f636f6d6d697473227d/wd/nbs/01_extract.ipynb#ch0000010vscode-remote?line=9'>10</a>\u001b[0m     \u001b[39mawait\u001b[39;00m site\u001b[39m.\u001b[39mhtml\u001b[39m.\u001b[39marender(keep_page\u001b[39m=\u001b[39m\u001b[39mTrue\u001b[39;00m)\n\u001b[1;32m     <a href='vscode-notebook-cell://attached-container%2B7b22636f6e7461696e65724e616d65223a222f7265706f5f66697273745f636f6d6d697473227d/wd/nbs/01_extract.ipynb#ch0000010vscode-remote?line=10'>11</a>\u001b[0m     \u001b[39mreturn\u001b[39;00m site\n\u001b[0;32m---> <a href='vscode-notebook-cell://attached-container%2B7b22636f6e7461696e65724e616d65223a222f7265706f5f66697273745f636f6d6d697473227d/wd/nbs/01_extract.ipynb#ch0000010vscode-remote?line=12'>13</a>\u001b[0m web \u001b[39m=\u001b[39m asession\u001b[39m.\u001b[39;49mrun(get_pythonorg)\n\u001b[1;32m     <a href='vscode-notebook-cell://attached-container%2B7b22636f6e7461696e65724e616d65223a222f7265706f5f66697273745f636f6d6d697473227d/wd/nbs/01_extract.ipynb#ch0000010vscode-remote?line=13'>14</a>\u001b[0m \u001b[39mprint\u001b[39m(web)\n",
      "File \u001b[0;32m/opt/conda/lib/python3.8/site-packages/requests_html.py:775\u001b[0m, in \u001b[0;36mAsyncHTMLSession.run\u001b[0;34m(self, *coros)\u001b[0m\n\u001b[1;32m    <a href='file:///opt/conda/lib/python3.8/site-packages/requests_html.py?line=770'>771</a>\u001b[0m tasks \u001b[39m=\u001b[39m [\n\u001b[1;32m    <a href='file:///opt/conda/lib/python3.8/site-packages/requests_html.py?line=771'>772</a>\u001b[0m     asyncio\u001b[39m.\u001b[39mensure_future(coro()) \u001b[39mfor\u001b[39;00m coro \u001b[39min\u001b[39;00m coros\n\u001b[1;32m    <a href='file:///opt/conda/lib/python3.8/site-packages/requests_html.py?line=772'>773</a>\u001b[0m ]\n\u001b[1;32m    <a href='file:///opt/conda/lib/python3.8/site-packages/requests_html.py?line=773'>774</a>\u001b[0m done, _ \u001b[39m=\u001b[39m \u001b[39mself\u001b[39m\u001b[39m.\u001b[39mloop\u001b[39m.\u001b[39mrun_until_complete(asyncio\u001b[39m.\u001b[39mwait(tasks))\n\u001b[0;32m--> <a href='file:///opt/conda/lib/python3.8/site-packages/requests_html.py?line=774'>775</a>\u001b[0m \u001b[39mreturn\u001b[39;00m [t\u001b[39m.\u001b[39mresult() \u001b[39mfor\u001b[39;00m t \u001b[39min\u001b[39;00m done]\n",
      "File \u001b[0;32m/opt/conda/lib/python3.8/site-packages/requests_html.py:775\u001b[0m, in \u001b[0;36m<listcomp>\u001b[0;34m(.0)\u001b[0m\n\u001b[1;32m    <a href='file:///opt/conda/lib/python3.8/site-packages/requests_html.py?line=770'>771</a>\u001b[0m tasks \u001b[39m=\u001b[39m [\n\u001b[1;32m    <a href='file:///opt/conda/lib/python3.8/site-packages/requests_html.py?line=771'>772</a>\u001b[0m     asyncio\u001b[39m.\u001b[39mensure_future(coro()) \u001b[39mfor\u001b[39;00m coro \u001b[39min\u001b[39;00m coros\n\u001b[1;32m    <a href='file:///opt/conda/lib/python3.8/site-packages/requests_html.py?line=772'>773</a>\u001b[0m ]\n\u001b[1;32m    <a href='file:///opt/conda/lib/python3.8/site-packages/requests_html.py?line=773'>774</a>\u001b[0m done, _ \u001b[39m=\u001b[39m \u001b[39mself\u001b[39m\u001b[39m.\u001b[39mloop\u001b[39m.\u001b[39mrun_until_complete(asyncio\u001b[39m.\u001b[39mwait(tasks))\n\u001b[0;32m--> <a href='file:///opt/conda/lib/python3.8/site-packages/requests_html.py?line=774'>775</a>\u001b[0m \u001b[39mreturn\u001b[39;00m [t\u001b[39m.\u001b[39;49mresult() \u001b[39mfor\u001b[39;00m t \u001b[39min\u001b[39;00m done]\n",
      "File \u001b[0;32m/opt/conda/lib/python3.8/asyncio/futures.py:178\u001b[0m, in \u001b[0;36mFuture.result\u001b[0;34m(self)\u001b[0m\n\u001b[1;32m    <a href='file:///opt/conda/lib/python3.8/asyncio/futures.py?line=175'>176</a>\u001b[0m \u001b[39mself\u001b[39m\u001b[39m.\u001b[39m__log_traceback \u001b[39m=\u001b[39m \u001b[39mFalse\u001b[39;00m\n\u001b[1;32m    <a href='file:///opt/conda/lib/python3.8/asyncio/futures.py?line=176'>177</a>\u001b[0m \u001b[39mif\u001b[39;00m \u001b[39mself\u001b[39m\u001b[39m.\u001b[39m_exception \u001b[39mis\u001b[39;00m \u001b[39mnot\u001b[39;00m \u001b[39mNone\u001b[39;00m:\n\u001b[0;32m--> <a href='file:///opt/conda/lib/python3.8/asyncio/futures.py?line=177'>178</a>\u001b[0m     \u001b[39mraise\u001b[39;00m \u001b[39mself\u001b[39m\u001b[39m.\u001b[39m_exception\n\u001b[1;32m    <a href='file:///opt/conda/lib/python3.8/asyncio/futures.py?line=178'>179</a>\u001b[0m \u001b[39mreturn\u001b[39;00m \u001b[39mself\u001b[39m\u001b[39m.\u001b[39m_result\n",
      "File \u001b[0;32m/opt/conda/lib/python3.8/asyncio/tasks.py:280\u001b[0m, in \u001b[0;36mTask.__step\u001b[0;34m(***failed resolving arguments***)\u001b[0m\n\u001b[1;32m    <a href='file:///opt/conda/lib/python3.8/asyncio/tasks.py?line=275'>276</a>\u001b[0m \u001b[39mtry\u001b[39;00m:\n\u001b[1;32m    <a href='file:///opt/conda/lib/python3.8/asyncio/tasks.py?line=276'>277</a>\u001b[0m     \u001b[39mif\u001b[39;00m exc \u001b[39mis\u001b[39;00m \u001b[39mNone\u001b[39;00m:\n\u001b[1;32m    <a href='file:///opt/conda/lib/python3.8/asyncio/tasks.py?line=277'>278</a>\u001b[0m         \u001b[39m# We use the `send` method directly, because coroutines\u001b[39;00m\n\u001b[1;32m    <a href='file:///opt/conda/lib/python3.8/asyncio/tasks.py?line=278'>279</a>\u001b[0m         \u001b[39m# don't have `__iter__` and `__next__` methods.\u001b[39;00m\n\u001b[0;32m--> <a href='file:///opt/conda/lib/python3.8/asyncio/tasks.py?line=279'>280</a>\u001b[0m         result \u001b[39m=\u001b[39m coro\u001b[39m.\u001b[39;49msend(\u001b[39mNone\u001b[39;49;00m)\n\u001b[1;32m    <a href='file:///opt/conda/lib/python3.8/asyncio/tasks.py?line=280'>281</a>\u001b[0m     \u001b[39melse\u001b[39;00m:\n\u001b[1;32m    <a href='file:///opt/conda/lib/python3.8/asyncio/tasks.py?line=281'>282</a>\u001b[0m         result \u001b[39m=\u001b[39m coro\u001b[39m.\u001b[39mthrow(exc)\n",
      "\u001b[1;32m/wd/nbs/01_extract.ipynb Cell 11'\u001b[0m in \u001b[0;36mget_pythonorg\u001b[0;34m()\u001b[0m\n\u001b[1;32m      <a href='vscode-notebook-cell://attached-container%2B7b22636f6e7461696e65724e616d65223a222f7265706f5f66697273745f636f6d6d697473227d/wd/nbs/01_extract.ipynb#ch0000010vscode-remote?line=7'>8</a>\u001b[0m \u001b[39masync\u001b[39;00m \u001b[39mdef\u001b[39;00m \u001b[39mget_pythonorg\u001b[39m():\n\u001b[1;32m      <a href='vscode-notebook-cell://attached-container%2B7b22636f6e7461696e65724e616d65223a222f7265706f5f66697273745f636f6d6d697473227d/wd/nbs/01_extract.ipynb#ch0000010vscode-remote?line=8'>9</a>\u001b[0m     site \u001b[39m=\u001b[39m \u001b[39mawait\u001b[39;00m asession\u001b[39m.\u001b[39mget(\u001b[39m'\u001b[39m\u001b[39mhttps://python.org/\u001b[39m\u001b[39m'\u001b[39m)\n\u001b[0;32m---> <a href='vscode-notebook-cell://attached-container%2B7b22636f6e7461696e65724e616d65223a222f7265706f5f66697273745f636f6d6d697473227d/wd/nbs/01_extract.ipynb#ch0000010vscode-remote?line=9'>10</a>\u001b[0m     \u001b[39mawait\u001b[39;00m site\u001b[39m.\u001b[39mhtml\u001b[39m.\u001b[39marender(keep_page\u001b[39m=\u001b[39m\u001b[39mTrue\u001b[39;00m)\n\u001b[1;32m     <a href='vscode-notebook-cell://attached-container%2B7b22636f6e7461696e65724e616d65223a222f7265706f5f66697273745f636f6d6d697473227d/wd/nbs/01_extract.ipynb#ch0000010vscode-remote?line=10'>11</a>\u001b[0m     \u001b[39mreturn\u001b[39;00m site\n",
      "File \u001b[0;32m/opt/conda/lib/python3.8/site-packages/requests_html.py:615\u001b[0m, in \u001b[0;36mHTML.arender\u001b[0;34m(self, retries, script, wait, scrolldown, sleep, reload, timeout, keep_page)\u001b[0m\n\u001b[1;32m    <a href='file:///opt/conda/lib/python3.8/site-packages/requests_html.py?line=611'>612</a>\u001b[0m \u001b[39masync\u001b[39;00m \u001b[39mdef\u001b[39;00m \u001b[39marender\u001b[39m(\u001b[39mself\u001b[39m, retries: \u001b[39mint\u001b[39m \u001b[39m=\u001b[39m \u001b[39m8\u001b[39m, script: \u001b[39mstr\u001b[39m \u001b[39m=\u001b[39m \u001b[39mNone\u001b[39;00m, wait: \u001b[39mfloat\u001b[39m \u001b[39m=\u001b[39m \u001b[39m0.2\u001b[39m, scrolldown\u001b[39m=\u001b[39m\u001b[39mFalse\u001b[39;00m, sleep: \u001b[39mint\u001b[39m \u001b[39m=\u001b[39m \u001b[39m0\u001b[39m, reload: \u001b[39mbool\u001b[39m \u001b[39m=\u001b[39m \u001b[39mTrue\u001b[39;00m, timeout: Union[\u001b[39mfloat\u001b[39m, \u001b[39mint\u001b[39m] \u001b[39m=\u001b[39m \u001b[39m8.0\u001b[39m, keep_page: \u001b[39mbool\u001b[39m \u001b[39m=\u001b[39m \u001b[39mFalse\u001b[39;00m):\n\u001b[1;32m    <a href='file:///opt/conda/lib/python3.8/site-packages/requests_html.py?line=612'>613</a>\u001b[0m     \u001b[39m\"\"\" Async version of render. Takes same parameters. \"\"\"\u001b[39;00m\n\u001b[0;32m--> <a href='file:///opt/conda/lib/python3.8/site-packages/requests_html.py?line=614'>615</a>\u001b[0m     \u001b[39mself\u001b[39m\u001b[39m.\u001b[39mbrowser \u001b[39m=\u001b[39m \u001b[39mawait\u001b[39;00m \u001b[39mself\u001b[39m\u001b[39m.\u001b[39msession\u001b[39m.\u001b[39mbrowser\n\u001b[1;32m    <a href='file:///opt/conda/lib/python3.8/site-packages/requests_html.py?line=615'>616</a>\u001b[0m     content \u001b[39m=\u001b[39m \u001b[39mNone\u001b[39;00m\n\u001b[1;32m    <a href='file:///opt/conda/lib/python3.8/site-packages/requests_html.py?line=617'>618</a>\u001b[0m     \u001b[39m# Automatically set Reload to False, if example URL is being used.\u001b[39;00m\n",
      "File \u001b[0;32m/opt/conda/lib/python3.8/site-packages/requests_html.py:714\u001b[0m, in \u001b[0;36mBaseSession.browser\u001b[0;34m(self)\u001b[0m\n\u001b[1;32m    <a href='file:///opt/conda/lib/python3.8/site-packages/requests_html.py?line=710'>711</a>\u001b[0m \u001b[39m@property\u001b[39m\n\u001b[1;32m    <a href='file:///opt/conda/lib/python3.8/site-packages/requests_html.py?line=711'>712</a>\u001b[0m \u001b[39masync\u001b[39;00m \u001b[39mdef\u001b[39;00m \u001b[39mbrowser\u001b[39m(\u001b[39mself\u001b[39m):\n\u001b[1;32m    <a href='file:///opt/conda/lib/python3.8/site-packages/requests_html.py?line=712'>713</a>\u001b[0m     \u001b[39mif\u001b[39;00m \u001b[39mnot\u001b[39;00m \u001b[39mhasattr\u001b[39m(\u001b[39mself\u001b[39m, \u001b[39m\"\u001b[39m\u001b[39m_browser\u001b[39m\u001b[39m\"\u001b[39m):\n\u001b[0;32m--> <a href='file:///opt/conda/lib/python3.8/site-packages/requests_html.py?line=713'>714</a>\u001b[0m         \u001b[39mself\u001b[39m\u001b[39m.\u001b[39m_browser \u001b[39m=\u001b[39m \u001b[39mawait\u001b[39;00m pyppeteer\u001b[39m.\u001b[39mlaunch(ignoreHTTPSErrors\u001b[39m=\u001b[39m\u001b[39mnot\u001b[39;00m(\u001b[39mself\u001b[39m\u001b[39m.\u001b[39mverify), headless\u001b[39m=\u001b[39m\u001b[39mTrue\u001b[39;00m, args\u001b[39m=\u001b[39m\u001b[39mself\u001b[39m\u001b[39m.\u001b[39m__browser_args)\n\u001b[1;32m    <a href='file:///opt/conda/lib/python3.8/site-packages/requests_html.py?line=715'>716</a>\u001b[0m     \u001b[39mreturn\u001b[39;00m \u001b[39mself\u001b[39m\u001b[39m.\u001b[39m_browser\n",
      "File \u001b[0;32m/opt/conda/lib/python3.8/site-packages/pyppeteer/launcher.py:307\u001b[0m, in \u001b[0;36mlaunch\u001b[0;34m(options, **kwargs)\u001b[0m\n\u001b[1;32m    <a href='file:///opt/conda/lib/python3.8/site-packages/pyppeteer/launcher.py?line=238'>239</a>\u001b[0m \u001b[39masync\u001b[39;00m \u001b[39mdef\u001b[39;00m \u001b[39mlaunch\u001b[39m(options: \u001b[39mdict\u001b[39m \u001b[39m=\u001b[39m \u001b[39mNone\u001b[39;00m, \u001b[39m*\u001b[39m\u001b[39m*\u001b[39mkwargs: Any) \u001b[39m-\u001b[39m\u001b[39m>\u001b[39m Browser:\n\u001b[1;32m    <a href='file:///opt/conda/lib/python3.8/site-packages/pyppeteer/launcher.py?line=239'>240</a>\u001b[0m     \u001b[39m\"\"\"Start chrome process and return :class:`~pyppeteer.browser.Browser`.\u001b[39;00m\n\u001b[1;32m    <a href='file:///opt/conda/lib/python3.8/site-packages/pyppeteer/launcher.py?line=240'>241</a>\u001b[0m \u001b[39m    This function is a shortcut to :meth:`Launcher(options, **kwargs).launch`.\u001b[39;00m\n\u001b[1;32m    <a href='file:///opt/conda/lib/python3.8/site-packages/pyppeteer/launcher.py?line=241'>242</a>\u001b[0m \u001b[39m    Available options are:\u001b[39;00m\n\u001b[0;32m   (...)\u001b[0m\n\u001b[1;32m    <a href='file:///opt/conda/lib/python3.8/site-packages/pyppeteer/launcher.py?line=304'>305</a>\u001b[0m \u001b[39m        option with extreme caution.\u001b[39;00m\n\u001b[1;32m    <a href='file:///opt/conda/lib/python3.8/site-packages/pyppeteer/launcher.py?line=305'>306</a>\u001b[0m \u001b[39m    \"\"\"\u001b[39;00m\n\u001b[0;32m--> <a href='file:///opt/conda/lib/python3.8/site-packages/pyppeteer/launcher.py?line=306'>307</a>\u001b[0m     \u001b[39mreturn\u001b[39;00m \u001b[39mawait\u001b[39;00m Launcher(options, \u001b[39m*\u001b[39m\u001b[39m*\u001b[39mkwargs)\u001b[39m.\u001b[39mlaunch()\n",
      "File \u001b[0;32m/opt/conda/lib/python3.8/site-packages/pyppeteer/launcher.py:168\u001b[0m, in \u001b[0;36mLauncher.launch\u001b[0;34m(self)\u001b[0m\n\u001b[1;32m    <a href='file:///opt/conda/lib/python3.8/site-packages/pyppeteer/launcher.py?line=164'>165</a>\u001b[0m         signal\u001b[39m.\u001b[39msignal(signal\u001b[39m.\u001b[39mSIGHUP, _close_process)\n\u001b[1;32m    <a href='file:///opt/conda/lib/python3.8/site-packages/pyppeteer/launcher.py?line=166'>167</a>\u001b[0m connectionDelay \u001b[39m=\u001b[39m \u001b[39mself\u001b[39m\u001b[39m.\u001b[39mslowMo\n\u001b[0;32m--> <a href='file:///opt/conda/lib/python3.8/site-packages/pyppeteer/launcher.py?line=167'>168</a>\u001b[0m \u001b[39mself\u001b[39m\u001b[39m.\u001b[39mbrowserWSEndpoint \u001b[39m=\u001b[39m get_ws_endpoint(\u001b[39mself\u001b[39;49m\u001b[39m.\u001b[39;49murl)\n\u001b[1;32m    <a href='file:///opt/conda/lib/python3.8/site-packages/pyppeteer/launcher.py?line=168'>169</a>\u001b[0m logger\u001b[39m.\u001b[39minfo(\u001b[39mf\u001b[39m\u001b[39m'\u001b[39m\u001b[39mBrowser listening on: \u001b[39m\u001b[39m{\u001b[39;00m\u001b[39mself\u001b[39m\u001b[39m.\u001b[39mbrowserWSEndpoint\u001b[39m}\u001b[39;00m\u001b[39m'\u001b[39m)\n\u001b[1;32m    <a href='file:///opt/conda/lib/python3.8/site-packages/pyppeteer/launcher.py?line=169'>170</a>\u001b[0m \u001b[39mself\u001b[39m\u001b[39m.\u001b[39mconnection \u001b[39m=\u001b[39m Connection(\u001b[39mself\u001b[39m\u001b[39m.\u001b[39mbrowserWSEndpoint, \u001b[39mself\u001b[39m\u001b[39m.\u001b[39m_loop, connectionDelay, )\n",
      "File \u001b[0;32m/opt/conda/lib/python3.8/site-packages/pyppeteer/launcher.py:227\u001b[0m, in \u001b[0;36mget_ws_endpoint\u001b[0;34m(url)\u001b[0m\n\u001b[1;32m    <a href='file:///opt/conda/lib/python3.8/site-packages/pyppeteer/launcher.py?line=224'>225</a>\u001b[0m \u001b[39mwhile\u001b[39;00m (\u001b[39mTrue\u001b[39;00m):\n\u001b[1;32m    <a href='file:///opt/conda/lib/python3.8/site-packages/pyppeteer/launcher.py?line=225'>226</a>\u001b[0m     \u001b[39mif\u001b[39;00m time\u001b[39m.\u001b[39mtime() \u001b[39m>\u001b[39m timeout:\n\u001b[0;32m--> <a href='file:///opt/conda/lib/python3.8/site-packages/pyppeteer/launcher.py?line=226'>227</a>\u001b[0m         \u001b[39mraise\u001b[39;00m BrowserError(\u001b[39m'\u001b[39m\u001b[39mBrowser closed unexpectedly:\u001b[39m\u001b[39m\\n\u001b[39;00m\u001b[39m'\u001b[39m)\n\u001b[1;32m    <a href='file:///opt/conda/lib/python3.8/site-packages/pyppeteer/launcher.py?line=227'>228</a>\u001b[0m     \u001b[39mtry\u001b[39;00m:\n\u001b[1;32m    <a href='file:///opt/conda/lib/python3.8/site-packages/pyppeteer/launcher.py?line=228'>229</a>\u001b[0m         \u001b[39mwith\u001b[39;00m urlopen(url) \u001b[39mas\u001b[39;00m f:\n",
      "\u001b[0;31mBrowserError\u001b[0m: Browser closed unexpectedly:\n"
     ]
    }
   ],
   "source": [
    "import nest_asyncio\n",
    "\n",
    "from requests_html import AsyncHTMLSession\n",
    "\n",
    "asession = AsyncHTMLSession()\n",
    "nest_asyncio.apply(asession.loop)\n",
    "\n",
    "async def get_pythonorg():\n",
    "    site = await asession.get('https://python.org/')\n",
    "    await site.html.arender(keep_page=True)\n",
    "    return site\n",
    "\n",
    "web = asession.run(get_pythonorg)\n",
    "print(web)"
   ]
  },
  {
   "cell_type": "code",
   "execution_count": null,
   "metadata": {},
   "outputs": [],
   "source": []
  }
 ],
 "metadata": {
  "kernelspec": {
   "display_name": "Python 3",
   "language": "python",
   "name": "python3"
  }
 },
 "nbformat": 4,
 "nbformat_minor": 2
}
